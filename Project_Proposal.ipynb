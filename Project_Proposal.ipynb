{
 "cells": [
  {
   "cell_type": "markdown",
   "id": "edfd9305-1c89-4e58-9d8c-448592a99471",
   "metadata": {},
   "source": [
    "# Size decrease in female and male Chinook salmon\n",
    "## Group 4:\n",
    "Cheuk-lun Cheung, Diana Gawol, Allan Hu, Xinyi Wang,"
   ]
  },
  {
   "cell_type": "markdown",
   "id": "0dabc85c-a02b-4639-a84f-dca1a2cfc677",
   "metadata": {},
   "source": [
    "# Introduction\n",
    "Research has demonstrated that all Pacific salmon species have declined in size over the past century (Oke et al., 2020). Larger female fish have a greater fecundity (number of eggs per female) as well as larger eggs. Larger eggs are positively correlated with greater chance of juvenile survival; a greater number of eggs produce greater numbers of juveniles (Dickerson et al., 2002). Size of males, on the other hand, does not determine how many eggs they are able to fertilize. **With this in mind, we aim to investigate whether the observed overall decline in size is driven by differential change in size in female or male Chinook salmon (Onchorynchus tshawytscha).** For this, we will compare the differences in `median` length of female and male Chinook salmon between the 1960s and 2010s. **We hypothesize that the males’ difference in medians will be greater than the females’**. To investigate this question, we examine the dataset of Pacific salmon catch data from Alaska used by Oke et al. to demonstrate the overall size decrease over the last century. \n",
    "\n",
    "Biologically, the `median` location parameter is most suitable as it best represents the middle of the data. A ‘middle’ fish size is more useful than an ‘average’ fish size since outliers have less influence on it.\n",
    "\n",
    "We use the `interquartile range` because the use of standard deviation is not appropriate with non-normal data. Furthermore, a central tendency is also not present as our data is not strictly ‘normal’ due to the presence of outliers.\n",
    "\n"
   ]
  },
  {
   "cell_type": "markdown",
   "id": "5fb299f6-58cb-4bb2-b637-8f72d5477a26",
   "metadata": {},
   "source": [
    "# Methods and Results"
   ]
  },
  {
   "cell_type": "code",
   "execution_count": 1,
   "id": "c3fef7bf-01a4-45a8-9fdf-f02bed7fdc0c",
   "metadata": {},
   "outputs": [
    {
     "name": "stderr",
     "output_type": "stream",
     "text": [
      "── \u001b[1mAttaching packages\u001b[22m ─────────────────────────────────────── tidyverse 1.3.2 ──\n",
      "\u001b[32m✔\u001b[39m \u001b[34mggplot2\u001b[39m 3.3.6      \u001b[32m✔\u001b[39m \u001b[34mpurrr  \u001b[39m 0.3.4 \n",
      "\u001b[32m✔\u001b[39m \u001b[34mtibble \u001b[39m 3.1.8      \u001b[32m✔\u001b[39m \u001b[34mdplyr  \u001b[39m 1.0.10\n",
      "\u001b[32m✔\u001b[39m \u001b[34mtidyr  \u001b[39m 1.2.1      \u001b[32m✔\u001b[39m \u001b[34mstringr\u001b[39m 1.4.1 \n",
      "\u001b[32m✔\u001b[39m \u001b[34mreadr  \u001b[39m 2.1.2      \u001b[32m✔\u001b[39m \u001b[34mforcats\u001b[39m 0.5.2 \n",
      "── \u001b[1mConflicts\u001b[22m ────────────────────────────────────────── tidyverse_conflicts() ──\n",
      "\u001b[31m✖\u001b[39m \u001b[34mdplyr\u001b[39m::\u001b[32mfilter()\u001b[39m masks \u001b[34mstats\u001b[39m::filter()\n",
      "\u001b[31m✖\u001b[39m \u001b[34mdplyr\u001b[39m::\u001b[32mlag()\u001b[39m    masks \u001b[34mstats\u001b[39m::lag()\n"
     ]
    }
   ],
   "source": [
    "set.seed(2023) # Randomization\n",
    "library(cowplot)\n",
    "library(infer)\n",
    "library(repr)\n",
    "library(tidyverse)\n",
    "library(broom)\n",
    "library(digest)"
   ]
  },
  {
   "cell_type": "code",
   "execution_count": 3,
   "id": "32877993-3870-41b1-8a98-1b5c446f7a5b",
   "metadata": {},
   "outputs": [
    {
     "ename": "ERROR",
     "evalue": "Error in open.connection(structure(5L, class = c(\"curl\", \"connection\"), conn_id = <pointer: 0x263>), : HTTP error 404.\n",
     "output_type": "error",
     "traceback": [
      "Error in open.connection(structure(5L, class = c(\"curl\", \"connection\"), conn_id = <pointer: 0x263>), : HTTP error 404.\nTraceback:\n",
      "1. read_csv(\"https://raw.githubusercontent.com/GChroma/Stat201-group-project-4/main/data/chinook.csv\")",
      "2. vroom::vroom(file, delim = \",\", col_names = col_names, col_types = col_types, \n .     col_select = {\n .         {\n .             col_select\n .         }\n .     }, id = id, .name_repair = name_repair, skip = skip, n_max = n_max, \n .     na = na, quote = quote, comment = comment, skip_empty_rows = skip_empty_rows, \n .     trim_ws = trim_ws, escape_double = TRUE, escape_backslash = FALSE, \n .     locale = locale, guess_max = guess_max, show_col_types = show_col_types, \n .     progress = progress, altrep = lazy, num_threads = num_threads)",
      "3. vroom_(file, delim = delim %||% col_types$delim, col_names = col_names, \n .     col_types = col_types, id = id, skip = skip, col_select = col_select, \n .     name_repair = .name_repair, na = na, quote = quote, trim_ws = trim_ws, \n .     escape_double = escape_double, escape_backslash = escape_backslash, \n .     comment = comment, skip_empty_rows = skip_empty_rows, locale = locale, \n .     guess_max = guess_max, n_max = n_max, altrep = vroom_altrep(altrep), \n .     num_threads = num_threads, progress = progress)",
      "4. (function (con, ...) \n . UseMethod(\"open\"))(structure(5L, class = c(\"curl\", \"connection\"\n . ), conn_id = <pointer: 0x263>), \"rb\")",
      "5. open.connection(structure(5L, class = c(\"curl\", \"connection\"), conn_id = <pointer: 0x263>), \n .     \"rb\")"
     ]
    }
   ],
   "source": [
    "## This is the link for the original data. We ran into big issues becuase the file is so large (>3GB). \n",
    "## Therefore, we had to do one filtering step for only data from Chinook in R outside of Jupyter. \n",
    "## We then uploaded that file (chinook.csv) to github to access for this script.\n",
    "\n",
    "## This is the original data from the web and a few steps of filtering that we performed\n",
    "# master <- read_csv(\"https://knb.ecoinformatics.org/knb/d1/mn/v2/object/urn%3Auuid%3A478e0569-a61b-4339-86d7-7ab3849dc8d4\")\n",
    "\n",
    "## Look at head\n",
    "#head(master)\n",
    "\n",
    "## Look at column names to select the ones of interest.\n",
    "#colnames(master)\n",
    "\n",
    "## Look at the different types of fishing used \n",
    "#levels(as.factor(master$ASLProjectType))\n",
    "\n",
    "\n",
    "\n",
    "## Filter data for species and columns of interest\n",
    "#chinook <- master %>%\n",
    "#  filter(Species == \"chinook\") %>%\n",
    "#  select(Species, Length, Weight, Sex, sampleYear, ASLProjectType, Length.Measurement.Type) %>%\n",
    "#  na.omit(Species, Length, Weight, Sex, sampleYear, ASLProjectType, Length.Measurement.Type) \n",
    "\n",
    "## This is the point at which we downloaded chinook.csv from R and placed it to github.\n",
    "## It can be accessed here\n",
    "chinook <- read_csv(\"https://raw.githubusercontent.com/GChroma/Stat201-group-project-4/main/data/chinook.csv\")\n",
    "head(chinook)"
   ]
  },
  {
   "cell_type": "code",
   "execution_count": null,
   "id": "1a1e7c38-8f72-43a1-a396-953dff9f9dc8",
   "metadata": {},
   "outputs": [],
   "source": [
    "## Look at the different sexes assigned\n",
    "levels(as.factor(chinook$Sex))\n",
    "\n",
    "\n",
    "## Remove all unknown sex \n",
    "chinook_sex_known <- chinook %>%\n",
    "  filter(!(Sex %in% c(\"unknown\", \"examined but did not identify\"))) \n",
    "\n",
    "head(chinook_sex_known)"
   ]
  },
  {
   "cell_type": "code",
   "execution_count": null,
   "id": "4b3aa59e-a894-488f-b8de-da5331aed054",
   "metadata": {},
   "outputs": [],
   "source": [
    "## Look at levels of fishing methods\n",
    "levels(as.factor(chinook$ASLProjectType))"
   ]
  },
  {
   "cell_type": "code",
   "execution_count": null,
   "id": "d7281433-6deb-4407-8860-72e4381527ff",
   "metadata": {},
   "outputs": [],
   "source": [
    "## Filter for subsistence fishing and use of consistent method for length measurements\n",
    "chinook_subsistence <- chinook_sex_known %>%\n",
    "  filter(ASLProjectType == \"subsistence catch\",\n",
    "         Length.Measurement.Type == \"mid-eye to fork of tail\")\n",
    "\n",
    "head(chinook_subsistence)"
   ]
  },
  {
   "cell_type": "code",
   "execution_count": null,
   "id": "e70c0587-5897-49f0-8d17-5c10286ab85e",
   "metadata": {},
   "outputs": [],
   "source": [
    "## Look which years are represented after all that filtering\n",
    "levels(as.factor(chinook_subsistence$sampleYear))"
   ]
  },
  {
   "cell_type": "code",
   "execution_count": null,
   "id": "9122e834-9858-4bc9-827d-0bfe0123e0a4",
   "metadata": {},
   "outputs": [],
   "source": [
    "## Create column to assign decades\n",
    "chinook_subsistence <- chinook_subsistence %>%\n",
    "  mutate(sampleDecade = ifelse(sampleYear %in% 1960:1969, \"1960s\",\n",
    "                                 ifelse(sampleYear %in% 1970:1979, \"1970s\", \n",
    "                                        ifelse(sampleYear %in% 1980:1989, \"1980s\",\n",
    "                                               ifelse(sampleYear %in% 2000:2009, \"2000s\",\n",
    "                                                      ifelse(sampleYear %in% 2010:2019, \"2010s\", \"unassigned\"))))))\n",
    "head(chinook_subsistence)"
   ]
  },
  {
   "cell_type": "code",
   "execution_count": null,
   "id": "d4bfc252-256d-40ce-a34c-c813cdb917d9",
   "metadata": {},
   "outputs": [],
   "source": [
    "## Overview plot of length of females and males throughout the decades\n",
    "plot_overview <- chinook_subsistence %>%\n",
    "  ggplot(aes(Length, Sex)) +\n",
    "  geom_boxplot() +\n",
    "  facet_wrap(~ sampleDecade) +\n",
    "  coord_flip() +\n",
    "  ggtitle((\"Length of female and male Chinook salmon decreases over time\")) +\n",
    "  xlab(\"Length (mm)\")\n",
    "plot_overview"
   ]
  },
  {
   "cell_type": "code",
   "execution_count": null,
   "id": "d510267f-0559-4b57-bd6b-7f90097e8380",
   "metadata": {},
   "outputs": [],
   "source": [
    "## Overview plot of length of females throughout the decades\n",
    "plot_female <- chinook_subsistence %>%\n",
    "  ggplot(aes(y = Length, x = sampleDecade, group = Sex, color = Sex)) +\n",
    "  geom_line() +\n",
    "  coord_flip() +\n",
    "  ggtitle((\"Length of male vs female Chinook salmon decreases over time\")) +\n",
    "  xlab(\"Length (mm)\") +\n",
    "  ylab(\"\")\n",
    "plot_female"
   ]
  },
  {
   "cell_type": "code",
   "execution_count": null,
   "id": "b67f6522-06d5-474e-8b7d-4e85c7eb0000",
   "metadata": {},
   "outputs": [],
   "source": [
    "## Drop the decades we will not use\n",
    "chinook_1960_2010 <- chinook_subsistence %>%\n",
    "    filter(sampleDecade %in% c(\"1960s\",\"2010s\"))\n",
    "\n",
    "head(chinook_1960_2010)"
   ]
  },
  {
   "cell_type": "code",
   "execution_count": null,
   "id": "7ef0a017-92c0-4475-a183-56acde27e768",
   "metadata": {},
   "outputs": [],
   "source": [
    "## Overview plot of length of females and males of just the decades we will use\n",
    "plot_overview <- chinook_1960_2010 %>%\n",
    "  ggplot(aes(Length, Sex)) +\n",
    "  geom_boxplot() +\n",
    "  facet_wrap(~ sampleDecade) +\n",
    "  coord_flip() +\n",
    "  ggtitle((\"Length of female and male Chinook salmon decreases over time\")) +\n",
    "  xlab(\"Length (mm)\")\n",
    "plot_overview"
   ]
  },
  {
   "cell_type": "code",
   "execution_count": null,
   "id": "1507ede7-224c-4317-bb59-33d84e24a5bf",
   "metadata": {},
   "outputs": [],
   "source": [
    "## Summary of the data. We also included mean and SD just for comparison to the median. \n",
    "chinook_summary <-\n",
    "     chinook_1960_2010 %>% \n",
    "     group_by(sampleDecade, Sex) %>% \n",
    "     summarise(n = n(),\n",
    "               mean = mean(Length),\n",
    "               sd = sd(Length),\n",
    "               median = median(Length),\n",
    "               IQR = IQR(Length),\n",
    "               `.groups` = \"drop\") %>% \n",
    "     pivot_wider(names_from = Sex, values_from = c(n, mean, sd, median, IQR)) \n",
    "\n",
    "chinook_summary"
   ]
  },
  {
   "cell_type": "markdown",
   "id": "ab389f3c-f390-4593-a8da-c2aa81e91bdf",
   "metadata": {},
   "source": [
    "# Methods\n",
    "This report has reliability due to filtering out confounding variables, however it is not discernable whether the differences in size decrease we are seeing are statistically significant from our plots. Thus, we will perform the following analysis.\n",
    "\n",
    "For each sex, we will first confirm that fish from the 1960s are longer than fish from the 2010s:\n",
    "For this, the **null hypothesis** is that there is no difference in the difference of medians from 1960s to 2010s in female and male fish. \n",
    "The **alternative hypothesis** is that 1960s fish are significantly longer than the 2010s fish. This is a one-sided test via simulation of the null-distribution.\n",
    "$$\n",
    "\\begin{align*}\n",
    "H_0&: \\mu_{\\text{1960s}} - \\mu_{\\text{2010s}} = 0 \\\\ \n",
    "H_1&: \\mu_{\\text{1960s}} - \\mu_{\\text{2010s}} < 0 \\\\ \n",
    "\\end{align*}\n",
    "$$\n",
    "\n",
    "We will then calculate the p-value with a significance level set to $\\alpha$ = 0.05 and the confidence interval (1-$\\alpha$) in order to reject the null hypothesis or not. Finally, we will compare the p-values between the two sexes to infer the likelihood that females have decreased less in size than males. We are hoping to learn alternative tools for this comparison in the upcoming weeks of the course.\n",
    "$$\n",
    "\\begin{align*}\n",
    "H_0&: p_{\\text{female}} = p_{\\text{male}}\\\\ \n",
    "H_1&: p_{\\text{female}} > p_{\\text{male}} \\\\ \n",
    "\\end{align*}\n",
    "$$\n",
    "\n",
    "We expect that male fish experienced a greater decrease in size relative to the females, as mentioned in the introduction. These findings will offer important insights into sex-based trends in fish size decreases.\n",
    "\n",
    "\n",
    "Further questions:\n",
    "1. How much of an effect do selective pressures play in the difference in size decrease between female and male fish?\n",
    "2. What is the relationship between size and survival in male fish given no expected correlation from this data?\n",
    "3. Looking at these trends, what will be the minimum size salmon will reach?\n"
   ]
  },
  {
   "cell_type": "markdown",
   "id": "4524f5bb-96fb-49e4-828e-e0cc49226a46",
   "metadata": {},
   "source": [
    "# References\n",
    "Dickerson, B. R., Quinn, T. P., & Willson, M. F. (2002). Body size, arrival date, and reproductive success of pink salmon, Oncorhynchus gorbuscha. Ethology Ecology & Evolution, 14(1), 29–44. doi:10.1080/08927014.2002.9522759\n",
    "\n",
    "Malick, M. J., Losee, J. P., Marston, G., Agha, M., Berejikian, B. A., Beckman, B. R., & Cooper, M. (n.d.). Fecundity trends of Chinook salmon in the Pacific Northwest. Fish and Fisheries, n/a(n/a). https://doi.org/10.1111/faf.12738\n",
    "\n",
    "Oke, K.B., Cunningham, C.J., Westley, P.A.H., Baskett, M.L., Carlson, S.M., Clark, J., Hendry, A.P., Karatayev, V.A., Kendall, N.W., Kibele, J., Kindsvater, H.K., Kobayashi, K.M., Lewis, B., Munch, S., Reynolds, J.D., Vick, G.K., Palkovacs, E.P. (2020). Recent declines in salmon body size impact ecosystems and fisheries. Nature Communications, 11(1), 4155. doi:10.1038/s41467-020-17726-z\n",
    "\n"
   ]
  }
 ],
 "metadata": {
  "kernelspec": {
   "display_name": "R",
   "language": "R",
   "name": "ir"
  },
  "language_info": {
   "codemirror_mode": "r",
   "file_extension": ".r",
   "mimetype": "text/x-r-source",
   "name": "R",
   "pygments_lexer": "r",
   "version": "4.1.3"
  }
 },
 "nbformat": 4,
 "nbformat_minor": 5
}
