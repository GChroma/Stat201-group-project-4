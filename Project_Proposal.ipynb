{
 "cells": [
  {
   "cell_type": "code",
   "execution_count": 1,
   "id": "c3fef7bf-01a4-45a8-9fdf-f02bed7fdc0c",
   "metadata": {},
   "outputs": [
    {
     "name": "stderr",
     "output_type": "stream",
     "text": [
      "── \u001b[1mAttaching packages\u001b[22m ─────────────────────────────────────── tidyverse 1.3.2 ──\n",
      "\u001b[32m✔\u001b[39m \u001b[34mggplot2\u001b[39m 3.3.6      \u001b[32m✔\u001b[39m \u001b[34mpurrr  \u001b[39m 0.3.4 \n",
      "\u001b[32m✔\u001b[39m \u001b[34mtibble \u001b[39m 3.1.8      \u001b[32m✔\u001b[39m \u001b[34mdplyr  \u001b[39m 1.0.10\n",
      "\u001b[32m✔\u001b[39m \u001b[34mtidyr  \u001b[39m 1.2.1      \u001b[32m✔\u001b[39m \u001b[34mstringr\u001b[39m 1.4.1 \n",
      "\u001b[32m✔\u001b[39m \u001b[34mreadr  \u001b[39m 2.1.2      \u001b[32m✔\u001b[39m \u001b[34mforcats\u001b[39m 0.5.2 \n",
      "── \u001b[1mConflicts\u001b[22m ────────────────────────────────────────── tidyverse_conflicts() ──\n",
      "\u001b[31m✖\u001b[39m \u001b[34mdplyr\u001b[39m::\u001b[32mfilter()\u001b[39m masks \u001b[34mstats\u001b[39m::filter()\n",
      "\u001b[31m✖\u001b[39m \u001b[34mdplyr\u001b[39m::\u001b[32mlag()\u001b[39m    masks \u001b[34mstats\u001b[39m::lag()\n"
     ]
    }
   ],
   "source": [
    "library(cowplot)\n",
    "library(infer)\n",
    "library(repr)\n",
    "library(tidyverse)\n",
    "library(broom)\n",
    "library(digest)"
   ]
  },
  {
   "cell_type": "code",
   "execution_count": 2,
   "id": "32877993-3870-41b1-8a98-1b5c446f7a5b",
   "metadata": {},
   "outputs": [
    {
     "data": {
      "text/html": [
       "<table class=\"dataframe\">\n",
       "<caption>A data.frame: 6 × 27</caption>\n",
       "<thead>\n",
       "\t<tr><th></th><th scope=col>Species</th><th scope=col>Length.Measurement.Type</th><th scope=col>sampleYear</th><th scope=col>ASLProjectType</th><th scope=col>LocationID</th><th scope=col>sampleDate</th><th scope=col>Length</th><th scope=col>Weight</th><th scope=col>Sex</th><th scope=col>Salt.Water.Age</th><th scope=col>⋯</th><th scope=col>Flag</th><th scope=col>Gear</th><th scope=col>SASAP.Region</th><th scope=col>LocationUnique</th><th scope=col>DistrictID</th><th scope=col>Sub.DistrictID</th><th scope=col>Stat.area</th><th scope=col>Lat</th><th scope=col>Lon</th><th scope=col>AWC_CODE</th></tr>\n",
       "\t<tr><th></th><th scope=col>&lt;chr&gt;</th><th scope=col>&lt;chr&gt;</th><th scope=col>&lt;int&gt;</th><th scope=col>&lt;chr&gt;</th><th scope=col>&lt;chr&gt;</th><th scope=col>&lt;chr&gt;</th><th scope=col>&lt;int&gt;</th><th scope=col>&lt;dbl&gt;</th><th scope=col>&lt;chr&gt;</th><th scope=col>&lt;int&gt;</th><th scope=col>⋯</th><th scope=col>&lt;chr&gt;</th><th scope=col>&lt;chr&gt;</th><th scope=col>&lt;chr&gt;</th><th scope=col>&lt;chr&gt;</th><th scope=col>&lt;int&gt;</th><th scope=col>&lt;int&gt;</th><th scope=col>&lt;int&gt;</th><th scope=col>&lt;dbl&gt;</th><th scope=col>&lt;dbl&gt;</th><th scope=col>&lt;chr&gt;</th></tr>\n",
       "</thead>\n",
       "<tbody>\n",
       "\t<tr><th scope=row>1</th><td>chinook</td><td>length not taken</td><td>1992</td><td>commercial catch</td><td>Affleck Canal/Spanish Is/Louise Cove</td><td>1992-03-31</td><td>NA</td><td>NA</td><td>examined but did not identify</td><td>3</td><td>⋯</td><td>NA</td><td>troll</td><td>Southeast</td><td>Affleck Canal/Spanish Is/Louise Cove-commercial catch-10510</td><td>105</td><td>10</td><td>10510</td><td>NA</td><td>NA</td><td>NA</td></tr>\n",
       "\t<tr><th scope=row>2</th><td>chinook</td><td>length not taken</td><td>1992</td><td>commercial catch</td><td>Affleck Canal/Spanish Is/Louise Cove</td><td>1992-03-31</td><td>NA</td><td>NA</td><td>examined but did not identify</td><td>3</td><td>⋯</td><td>NA</td><td>troll</td><td>Southeast</td><td>Affleck Canal/Spanish Is/Louise Cove-commercial catch-10510</td><td>105</td><td>10</td><td>10510</td><td>NA</td><td>NA</td><td>NA</td></tr>\n",
       "\t<tr><th scope=row>3</th><td>chinook</td><td>length not taken</td><td>1992</td><td>commercial catch</td><td>Affleck Canal/Spanish Is/Louise Cove</td><td>1992-03-31</td><td>NA</td><td>NA</td><td>examined but did not identify</td><td>3</td><td>⋯</td><td>NA</td><td>troll</td><td>Southeast</td><td>Affleck Canal/Spanish Is/Louise Cove-commercial catch-10510</td><td>105</td><td>10</td><td>10510</td><td>NA</td><td>NA</td><td>NA</td></tr>\n",
       "\t<tr><th scope=row>4</th><td>chinook</td><td>length not taken</td><td>1992</td><td>commercial catch</td><td>Affleck Canal/Spanish Is/Louise Cove</td><td>1992-03-31</td><td>NA</td><td>NA</td><td>examined but did not identify</td><td>3</td><td>⋯</td><td>NA</td><td>troll</td><td>Southeast</td><td>Affleck Canal/Spanish Is/Louise Cove-commercial catch-10510</td><td>105</td><td>10</td><td>10510</td><td>NA</td><td>NA</td><td>NA</td></tr>\n",
       "\t<tr><th scope=row>5</th><td>chinook</td><td>length not taken</td><td>1992</td><td>commercial catch</td><td>Affleck Canal/Spanish Is/Louise Cove</td><td>1992-03-31</td><td>NA</td><td>NA</td><td>examined but did not identify</td><td>4</td><td>⋯</td><td>NA</td><td>troll</td><td>Southeast</td><td>Affleck Canal/Spanish Is/Louise Cove-commercial catch-10510</td><td>105</td><td>10</td><td>10510</td><td>NA</td><td>NA</td><td>NA</td></tr>\n",
       "\t<tr><th scope=row>6</th><td>chinook</td><td>length not taken</td><td>1992</td><td>commercial catch</td><td>Affleck Canal/Spanish Is/Louise Cove</td><td>1992-03-31</td><td>NA</td><td>NA</td><td>examined but did not identify</td><td>3</td><td>⋯</td><td>NA</td><td>troll</td><td>Southeast</td><td>Affleck Canal/Spanish Is/Louise Cove-commercial catch-10510</td><td>105</td><td>10</td><td>10510</td><td>NA</td><td>NA</td><td>NA</td></tr>\n",
       "</tbody>\n",
       "</table>\n"
      ],
      "text/latex": [
       "A data.frame: 6 × 27\n",
       "\\begin{tabular}{r|lllllllllllllllllllll}\n",
       "  & Species & Length.Measurement.Type & sampleYear & ASLProjectType & LocationID & sampleDate & Length & Weight & Sex & Salt.Water.Age & ⋯ & Flag & Gear & SASAP.Region & LocationUnique & DistrictID & Sub.DistrictID & Stat.area & Lat & Lon & AWC\\_CODE\\\\\n",
       "  & <chr> & <chr> & <int> & <chr> & <chr> & <chr> & <int> & <dbl> & <chr> & <int> & ⋯ & <chr> & <chr> & <chr> & <chr> & <int> & <int> & <int> & <dbl> & <dbl> & <chr>\\\\\n",
       "\\hline\n",
       "\t1 & chinook & length not taken & 1992 & commercial catch & Affleck Canal/Spanish Is/Louise Cove & 1992-03-31 & NA & NA & examined but did not identify & 3 & ⋯ & NA & troll & Southeast & Affleck Canal/Spanish Is/Louise Cove-commercial catch-10510 & 105 & 10 & 10510 & NA & NA & NA\\\\\n",
       "\t2 & chinook & length not taken & 1992 & commercial catch & Affleck Canal/Spanish Is/Louise Cove & 1992-03-31 & NA & NA & examined but did not identify & 3 & ⋯ & NA & troll & Southeast & Affleck Canal/Spanish Is/Louise Cove-commercial catch-10510 & 105 & 10 & 10510 & NA & NA & NA\\\\\n",
       "\t3 & chinook & length not taken & 1992 & commercial catch & Affleck Canal/Spanish Is/Louise Cove & 1992-03-31 & NA & NA & examined but did not identify & 3 & ⋯ & NA & troll & Southeast & Affleck Canal/Spanish Is/Louise Cove-commercial catch-10510 & 105 & 10 & 10510 & NA & NA & NA\\\\\n",
       "\t4 & chinook & length not taken & 1992 & commercial catch & Affleck Canal/Spanish Is/Louise Cove & 1992-03-31 & NA & NA & examined but did not identify & 3 & ⋯ & NA & troll & Southeast & Affleck Canal/Spanish Is/Louise Cove-commercial catch-10510 & 105 & 10 & 10510 & NA & NA & NA\\\\\n",
       "\t5 & chinook & length not taken & 1992 & commercial catch & Affleck Canal/Spanish Is/Louise Cove & 1992-03-31 & NA & NA & examined but did not identify & 4 & ⋯ & NA & troll & Southeast & Affleck Canal/Spanish Is/Louise Cove-commercial catch-10510 & 105 & 10 & 10510 & NA & NA & NA\\\\\n",
       "\t6 & chinook & length not taken & 1992 & commercial catch & Affleck Canal/Spanish Is/Louise Cove & 1992-03-31 & NA & NA & examined but did not identify & 3 & ⋯ & NA & troll & Southeast & Affleck Canal/Spanish Is/Louise Cove-commercial catch-10510 & 105 & 10 & 10510 & NA & NA & NA\\\\\n",
       "\\end{tabular}\n"
      ],
      "text/markdown": [
       "\n",
       "A data.frame: 6 × 27\n",
       "\n",
       "| <!--/--> | Species &lt;chr&gt; | Length.Measurement.Type &lt;chr&gt; | sampleYear &lt;int&gt; | ASLProjectType &lt;chr&gt; | LocationID &lt;chr&gt; | sampleDate &lt;chr&gt; | Length &lt;int&gt; | Weight &lt;dbl&gt; | Sex &lt;chr&gt; | Salt.Water.Age &lt;int&gt; | ⋯ ⋯ | Flag &lt;chr&gt; | Gear &lt;chr&gt; | SASAP.Region &lt;chr&gt; | LocationUnique &lt;chr&gt; | DistrictID &lt;int&gt; | Sub.DistrictID &lt;int&gt; | Stat.area &lt;int&gt; | Lat &lt;dbl&gt; | Lon &lt;dbl&gt; | AWC_CODE &lt;chr&gt; |\n",
       "|---|---|---|---|---|---|---|---|---|---|---|---|---|---|---|---|---|---|---|---|---|---|\n",
       "| 1 | chinook | length not taken | 1992 | commercial catch | Affleck Canal/Spanish Is/Louise Cove | 1992-03-31 | NA | NA | examined but did not identify | 3 | ⋯ | NA | troll | Southeast | Affleck Canal/Spanish Is/Louise Cove-commercial catch-10510 | 105 | 10 | 10510 | NA | NA | NA |\n",
       "| 2 | chinook | length not taken | 1992 | commercial catch | Affleck Canal/Spanish Is/Louise Cove | 1992-03-31 | NA | NA | examined but did not identify | 3 | ⋯ | NA | troll | Southeast | Affleck Canal/Spanish Is/Louise Cove-commercial catch-10510 | 105 | 10 | 10510 | NA | NA | NA |\n",
       "| 3 | chinook | length not taken | 1992 | commercial catch | Affleck Canal/Spanish Is/Louise Cove | 1992-03-31 | NA | NA | examined but did not identify | 3 | ⋯ | NA | troll | Southeast | Affleck Canal/Spanish Is/Louise Cove-commercial catch-10510 | 105 | 10 | 10510 | NA | NA | NA |\n",
       "| 4 | chinook | length not taken | 1992 | commercial catch | Affleck Canal/Spanish Is/Louise Cove | 1992-03-31 | NA | NA | examined but did not identify | 3 | ⋯ | NA | troll | Southeast | Affleck Canal/Spanish Is/Louise Cove-commercial catch-10510 | 105 | 10 | 10510 | NA | NA | NA |\n",
       "| 5 | chinook | length not taken | 1992 | commercial catch | Affleck Canal/Spanish Is/Louise Cove | 1992-03-31 | NA | NA | examined but did not identify | 4 | ⋯ | NA | troll | Southeast | Affleck Canal/Spanish Is/Louise Cove-commercial catch-10510 | 105 | 10 | 10510 | NA | NA | NA |\n",
       "| 6 | chinook | length not taken | 1992 | commercial catch | Affleck Canal/Spanish Is/Louise Cove | 1992-03-31 | NA | NA | examined but did not identify | 3 | ⋯ | NA | troll | Southeast | Affleck Canal/Spanish Is/Louise Cove-commercial catch-10510 | 105 | 10 | 10510 | NA | NA | NA |\n",
       "\n"
      ],
      "text/plain": [
       "  Species Length.Measurement.Type sampleYear ASLProjectType  \n",
       "1 chinook length not taken        1992       commercial catch\n",
       "2 chinook length not taken        1992       commercial catch\n",
       "3 chinook length not taken        1992       commercial catch\n",
       "4 chinook length not taken        1992       commercial catch\n",
       "5 chinook length not taken        1992       commercial catch\n",
       "6 chinook length not taken        1992       commercial catch\n",
       "  LocationID                           sampleDate Length Weight\n",
       "1 Affleck Canal/Spanish Is/Louise Cove 1992-03-31 NA     NA    \n",
       "2 Affleck Canal/Spanish Is/Louise Cove 1992-03-31 NA     NA    \n",
       "3 Affleck Canal/Spanish Is/Louise Cove 1992-03-31 NA     NA    \n",
       "4 Affleck Canal/Spanish Is/Louise Cove 1992-03-31 NA     NA    \n",
       "5 Affleck Canal/Spanish Is/Louise Cove 1992-03-31 NA     NA    \n",
       "6 Affleck Canal/Spanish Is/Louise Cove 1992-03-31 NA     NA    \n",
       "  Sex                           Salt.Water.Age ⋯ Flag Gear  SASAP.Region\n",
       "1 examined but did not identify 3              ⋯ NA   troll Southeast   \n",
       "2 examined but did not identify 3              ⋯ NA   troll Southeast   \n",
       "3 examined but did not identify 3              ⋯ NA   troll Southeast   \n",
       "4 examined but did not identify 3              ⋯ NA   troll Southeast   \n",
       "5 examined but did not identify 4              ⋯ NA   troll Southeast   \n",
       "6 examined but did not identify 3              ⋯ NA   troll Southeast   \n",
       "  LocationUnique                                              DistrictID\n",
       "1 Affleck Canal/Spanish Is/Louise Cove-commercial catch-10510 105       \n",
       "2 Affleck Canal/Spanish Is/Louise Cove-commercial catch-10510 105       \n",
       "3 Affleck Canal/Spanish Is/Louise Cove-commercial catch-10510 105       \n",
       "4 Affleck Canal/Spanish Is/Louise Cove-commercial catch-10510 105       \n",
       "5 Affleck Canal/Spanish Is/Louise Cove-commercial catch-10510 105       \n",
       "6 Affleck Canal/Spanish Is/Louise Cove-commercial catch-10510 105       \n",
       "  Sub.DistrictID Stat.area Lat Lon AWC_CODE\n",
       "1 10             10510     NA  NA  NA      \n",
       "2 10             10510     NA  NA  NA      \n",
       "3 10             10510     NA  NA  NA      \n",
       "4 10             10510     NA  NA  NA      \n",
       "5 10             10510     NA  NA  NA      \n",
       "6 10             10510     NA  NA  NA      "
      ]
     },
     "metadata": {},
     "output_type": "display_data"
    }
   ],
   "source": [
    "salmon <- read.csv(\"~/stat-201/Stat201-group-project-4/ASL_master.csv\")\n",
    "head(salmon)"
   ]
  },
  {
   "cell_type": "code",
   "execution_count": null,
   "id": "1a1e7c38-8f72-43a1-a396-953dff9f9dc8",
   "metadata": {},
   "outputs": [],
   "source": []
  }
 ],
 "metadata": {
  "kernelspec": {
   "display_name": "R",
   "language": "R",
   "name": "ir"
  },
  "language_info": {
   "codemirror_mode": "r",
   "file_extension": ".r",
   "mimetype": "text/x-r-source",
   "name": "R",
   "pygments_lexer": "r",
   "version": "4.1.3"
  }
 },
 "nbformat": 4,
 "nbformat_minor": 5
}
