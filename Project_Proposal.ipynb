{
 "cells": [
  {
   "cell_type": "code",
   "execution_count": 3,
   "id": "c3fef7bf-01a4-45a8-9fdf-f02bed7fdc0c",
   "metadata": {},
   "outputs": [
    {
     "name": "stderr",
     "output_type": "stream",
     "text": [
      "── \u001b[1mAttaching packages\u001b[22m ─────────────────────────────────────── tidyverse 1.3.2 ──\n",
      "\u001b[32m✔\u001b[39m \u001b[34mggplot2\u001b[39m 3.3.6      \u001b[32m✔\u001b[39m \u001b[34mpurrr  \u001b[39m 0.3.4 \n",
      "\u001b[32m✔\u001b[39m \u001b[34mtibble \u001b[39m 3.1.8      \u001b[32m✔\u001b[39m \u001b[34mdplyr  \u001b[39m 1.0.10\n",
      "\u001b[32m✔\u001b[39m \u001b[34mtidyr  \u001b[39m 1.2.1      \u001b[32m✔\u001b[39m \u001b[34mstringr\u001b[39m 1.4.1 \n",
      "\u001b[32m✔\u001b[39m \u001b[34mreadr  \u001b[39m 2.1.2      \u001b[32m✔\u001b[39m \u001b[34mforcats\u001b[39m 0.5.2 \n",
      "── \u001b[1mConflicts\u001b[22m ────────────────────────────────────────── tidyverse_conflicts() ──\n",
      "\u001b[31m✖\u001b[39m \u001b[34mdplyr\u001b[39m::\u001b[32mfilter()\u001b[39m masks \u001b[34mstats\u001b[39m::filter()\n",
      "\u001b[31m✖\u001b[39m \u001b[34mdplyr\u001b[39m::\u001b[32mlag()\u001b[39m    masks \u001b[34mstats\u001b[39m::lag()\n"
     ]
    }
   ],
   "source": [
    "library(cowplot)\n",
    "library(infer)\n",
    "library(repr)\n",
    "library(tidyverse)\n",
    "library(broom)\n",
    "library(digest)"
   ]
  },
  {
   "cell_type": "code",
   "execution_count": 4,
   "id": "32877993-3870-41b1-8a98-1b5c446f7a5b",
   "metadata": {},
   "outputs": [
    {
     "data": {
      "text/html": [
       "<table class=\"dataframe\">\n",
       "<caption>A data.frame: 6 × 27</caption>\n",
       "<thead>\n",
       "\t<tr><th></th><th scope=col>Species</th><th scope=col>Length.Measurement.Type</th><th scope=col>sampleYear</th><th scope=col>ASLProjectType</th><th scope=col>LocationID</th><th scope=col>sampleDate</th><th scope=col>Length</th><th scope=col>Weight</th><th scope=col>Sex</th><th scope=col>Salt.Water.Age</th><th scope=col>⋯</th><th scope=col>Flag</th><th scope=col>Gear</th><th scope=col>SASAP.Region</th><th scope=col>LocationUnique</th><th scope=col>DistrictID</th><th scope=col>Sub.DistrictID</th><th scope=col>Stat.area</th><th scope=col>Lat</th><th scope=col>Lon</th><th scope=col>AWC_CODE</th></tr>\n",
       "\t<tr><th></th><th scope=col>&lt;chr&gt;</th><th scope=col>&lt;chr&gt;</th><th scope=col>&lt;int&gt;</th><th scope=col>&lt;chr&gt;</th><th scope=col>&lt;chr&gt;</th><th scope=col>&lt;chr&gt;</th><th scope=col>&lt;int&gt;</th><th scope=col>&lt;dbl&gt;</th><th scope=col>&lt;chr&gt;</th><th scope=col>&lt;int&gt;</th><th scope=col>⋯</th><th scope=col>&lt;chr&gt;</th><th scope=col>&lt;chr&gt;</th><th scope=col>&lt;chr&gt;</th><th scope=col>&lt;chr&gt;</th><th scope=col>&lt;int&gt;</th><th scope=col>&lt;int&gt;</th><th scope=col>&lt;int&gt;</th><th scope=col>&lt;dbl&gt;</th><th scope=col>&lt;dbl&gt;</th><th scope=col>&lt;chr&gt;</th></tr>\n",
       "</thead>\n",
       "<tbody>\n",
       "\t<tr><th scope=row>1</th><td>chinook</td><td>length not taken</td><td>1992</td><td>commercial catch</td><td>Affleck Canal/Spanish Is/Louise Cove</td><td>1992-03-31</td><td>NA</td><td>NA</td><td>examined but did not identify</td><td>3</td><td>⋯</td><td>NA</td><td>troll</td><td>Southeast</td><td>Affleck Canal/Spanish Is/Louise Cove-commercial catch-10510</td><td>105</td><td>10</td><td>10510</td><td>NA</td><td>NA</td><td>NA</td></tr>\n",
       "\t<tr><th scope=row>2</th><td>chinook</td><td>length not taken</td><td>1992</td><td>commercial catch</td><td>Affleck Canal/Spanish Is/Louise Cove</td><td>1992-03-31</td><td>NA</td><td>NA</td><td>examined but did not identify</td><td>3</td><td>⋯</td><td>NA</td><td>troll</td><td>Southeast</td><td>Affleck Canal/Spanish Is/Louise Cove-commercial catch-10510</td><td>105</td><td>10</td><td>10510</td><td>NA</td><td>NA</td><td>NA</td></tr>\n",
       "\t<tr><th scope=row>3</th><td>chinook</td><td>length not taken</td><td>1992</td><td>commercial catch</td><td>Affleck Canal/Spanish Is/Louise Cove</td><td>1992-03-31</td><td>NA</td><td>NA</td><td>examined but did not identify</td><td>3</td><td>⋯</td><td>NA</td><td>troll</td><td>Southeast</td><td>Affleck Canal/Spanish Is/Louise Cove-commercial catch-10510</td><td>105</td><td>10</td><td>10510</td><td>NA</td><td>NA</td><td>NA</td></tr>\n",
       "\t<tr><th scope=row>4</th><td>chinook</td><td>length not taken</td><td>1992</td><td>commercial catch</td><td>Affleck Canal/Spanish Is/Louise Cove</td><td>1992-03-31</td><td>NA</td><td>NA</td><td>examined but did not identify</td><td>3</td><td>⋯</td><td>NA</td><td>troll</td><td>Southeast</td><td>Affleck Canal/Spanish Is/Louise Cove-commercial catch-10510</td><td>105</td><td>10</td><td>10510</td><td>NA</td><td>NA</td><td>NA</td></tr>\n",
       "\t<tr><th scope=row>5</th><td>chinook</td><td>length not taken</td><td>1992</td><td>commercial catch</td><td>Affleck Canal/Spanish Is/Louise Cove</td><td>1992-03-31</td><td>NA</td><td>NA</td><td>examined but did not identify</td><td>4</td><td>⋯</td><td>NA</td><td>troll</td><td>Southeast</td><td>Affleck Canal/Spanish Is/Louise Cove-commercial catch-10510</td><td>105</td><td>10</td><td>10510</td><td>NA</td><td>NA</td><td>NA</td></tr>\n",
       "\t<tr><th scope=row>6</th><td>chinook</td><td>length not taken</td><td>1992</td><td>commercial catch</td><td>Affleck Canal/Spanish Is/Louise Cove</td><td>1992-03-31</td><td>NA</td><td>NA</td><td>examined but did not identify</td><td>3</td><td>⋯</td><td>NA</td><td>troll</td><td>Southeast</td><td>Affleck Canal/Spanish Is/Louise Cove-commercial catch-10510</td><td>105</td><td>10</td><td>10510</td><td>NA</td><td>NA</td><td>NA</td></tr>\n",
       "</tbody>\n",
       "</table>\n"
      ],
      "text/latex": [
       "A data.frame: 6 × 27\n",
       "\\begin{tabular}{r|lllllllllllllllllllll}\n",
       "  & Species & Length.Measurement.Type & sampleYear & ASLProjectType & LocationID & sampleDate & Length & Weight & Sex & Salt.Water.Age & ⋯ & Flag & Gear & SASAP.Region & LocationUnique & DistrictID & Sub.DistrictID & Stat.area & Lat & Lon & AWC\\_CODE\\\\\n",
       "  & <chr> & <chr> & <int> & <chr> & <chr> & <chr> & <int> & <dbl> & <chr> & <int> & ⋯ & <chr> & <chr> & <chr> & <chr> & <int> & <int> & <int> & <dbl> & <dbl> & <chr>\\\\\n",
       "\\hline\n",
       "\t1 & chinook & length not taken & 1992 & commercial catch & Affleck Canal/Spanish Is/Louise Cove & 1992-03-31 & NA & NA & examined but did not identify & 3 & ⋯ & NA & troll & Southeast & Affleck Canal/Spanish Is/Louise Cove-commercial catch-10510 & 105 & 10 & 10510 & NA & NA & NA\\\\\n",
       "\t2 & chinook & length not taken & 1992 & commercial catch & Affleck Canal/Spanish Is/Louise Cove & 1992-03-31 & NA & NA & examined but did not identify & 3 & ⋯ & NA & troll & Southeast & Affleck Canal/Spanish Is/Louise Cove-commercial catch-10510 & 105 & 10 & 10510 & NA & NA & NA\\\\\n",
       "\t3 & chinook & length not taken & 1992 & commercial catch & Affleck Canal/Spanish Is/Louise Cove & 1992-03-31 & NA & NA & examined but did not identify & 3 & ⋯ & NA & troll & Southeast & Affleck Canal/Spanish Is/Louise Cove-commercial catch-10510 & 105 & 10 & 10510 & NA & NA & NA\\\\\n",
       "\t4 & chinook & length not taken & 1992 & commercial catch & Affleck Canal/Spanish Is/Louise Cove & 1992-03-31 & NA & NA & examined but did not identify & 3 & ⋯ & NA & troll & Southeast & Affleck Canal/Spanish Is/Louise Cove-commercial catch-10510 & 105 & 10 & 10510 & NA & NA & NA\\\\\n",
       "\t5 & chinook & length not taken & 1992 & commercial catch & Affleck Canal/Spanish Is/Louise Cove & 1992-03-31 & NA & NA & examined but did not identify & 4 & ⋯ & NA & troll & Southeast & Affleck Canal/Spanish Is/Louise Cove-commercial catch-10510 & 105 & 10 & 10510 & NA & NA & NA\\\\\n",
       "\t6 & chinook & length not taken & 1992 & commercial catch & Affleck Canal/Spanish Is/Louise Cove & 1992-03-31 & NA & NA & examined but did not identify & 3 & ⋯ & NA & troll & Southeast & Affleck Canal/Spanish Is/Louise Cove-commercial catch-10510 & 105 & 10 & 10510 & NA & NA & NA\\\\\n",
       "\\end{tabular}\n"
      ],
      "text/markdown": [
       "\n",
       "A data.frame: 6 × 27\n",
       "\n",
       "| <!--/--> | Species &lt;chr&gt; | Length.Measurement.Type &lt;chr&gt; | sampleYear &lt;int&gt; | ASLProjectType &lt;chr&gt; | LocationID &lt;chr&gt; | sampleDate &lt;chr&gt; | Length &lt;int&gt; | Weight &lt;dbl&gt; | Sex &lt;chr&gt; | Salt.Water.Age &lt;int&gt; | ⋯ ⋯ | Flag &lt;chr&gt; | Gear &lt;chr&gt; | SASAP.Region &lt;chr&gt; | LocationUnique &lt;chr&gt; | DistrictID &lt;int&gt; | Sub.DistrictID &lt;int&gt; | Stat.area &lt;int&gt; | Lat &lt;dbl&gt; | Lon &lt;dbl&gt; | AWC_CODE &lt;chr&gt; |\n",
       "|---|---|---|---|---|---|---|---|---|---|---|---|---|---|---|---|---|---|---|---|---|---|\n",
       "| 1 | chinook | length not taken | 1992 | commercial catch | Affleck Canal/Spanish Is/Louise Cove | 1992-03-31 | NA | NA | examined but did not identify | 3 | ⋯ | NA | troll | Southeast | Affleck Canal/Spanish Is/Louise Cove-commercial catch-10510 | 105 | 10 | 10510 | NA | NA | NA |\n",
       "| 2 | chinook | length not taken | 1992 | commercial catch | Affleck Canal/Spanish Is/Louise Cove | 1992-03-31 | NA | NA | examined but did not identify | 3 | ⋯ | NA | troll | Southeast | Affleck Canal/Spanish Is/Louise Cove-commercial catch-10510 | 105 | 10 | 10510 | NA | NA | NA |\n",
       "| 3 | chinook | length not taken | 1992 | commercial catch | Affleck Canal/Spanish Is/Louise Cove | 1992-03-31 | NA | NA | examined but did not identify | 3 | ⋯ | NA | troll | Southeast | Affleck Canal/Spanish Is/Louise Cove-commercial catch-10510 | 105 | 10 | 10510 | NA | NA | NA |\n",
       "| 4 | chinook | length not taken | 1992 | commercial catch | Affleck Canal/Spanish Is/Louise Cove | 1992-03-31 | NA | NA | examined but did not identify | 3 | ⋯ | NA | troll | Southeast | Affleck Canal/Spanish Is/Louise Cove-commercial catch-10510 | 105 | 10 | 10510 | NA | NA | NA |\n",
       "| 5 | chinook | length not taken | 1992 | commercial catch | Affleck Canal/Spanish Is/Louise Cove | 1992-03-31 | NA | NA | examined but did not identify | 4 | ⋯ | NA | troll | Southeast | Affleck Canal/Spanish Is/Louise Cove-commercial catch-10510 | 105 | 10 | 10510 | NA | NA | NA |\n",
       "| 6 | chinook | length not taken | 1992 | commercial catch | Affleck Canal/Spanish Is/Louise Cove | 1992-03-31 | NA | NA | examined but did not identify | 3 | ⋯ | NA | troll | Southeast | Affleck Canal/Spanish Is/Louise Cove-commercial catch-10510 | 105 | 10 | 10510 | NA | NA | NA |\n",
       "\n"
      ],
      "text/plain": [
       "  Species Length.Measurement.Type sampleYear ASLProjectType  \n",
       "1 chinook length not taken        1992       commercial catch\n",
       "2 chinook length not taken        1992       commercial catch\n",
       "3 chinook length not taken        1992       commercial catch\n",
       "4 chinook length not taken        1992       commercial catch\n",
       "5 chinook length not taken        1992       commercial catch\n",
       "6 chinook length not taken        1992       commercial catch\n",
       "  LocationID                           sampleDate Length Weight\n",
       "1 Affleck Canal/Spanish Is/Louise Cove 1992-03-31 NA     NA    \n",
       "2 Affleck Canal/Spanish Is/Louise Cove 1992-03-31 NA     NA    \n",
       "3 Affleck Canal/Spanish Is/Louise Cove 1992-03-31 NA     NA    \n",
       "4 Affleck Canal/Spanish Is/Louise Cove 1992-03-31 NA     NA    \n",
       "5 Affleck Canal/Spanish Is/Louise Cove 1992-03-31 NA     NA    \n",
       "6 Affleck Canal/Spanish Is/Louise Cove 1992-03-31 NA     NA    \n",
       "  Sex                           Salt.Water.Age ⋯ Flag Gear  SASAP.Region\n",
       "1 examined but did not identify 3              ⋯ NA   troll Southeast   \n",
       "2 examined but did not identify 3              ⋯ NA   troll Southeast   \n",
       "3 examined but did not identify 3              ⋯ NA   troll Southeast   \n",
       "4 examined but did not identify 3              ⋯ NA   troll Southeast   \n",
       "5 examined but did not identify 4              ⋯ NA   troll Southeast   \n",
       "6 examined but did not identify 3              ⋯ NA   troll Southeast   \n",
       "  LocationUnique                                              DistrictID\n",
       "1 Affleck Canal/Spanish Is/Louise Cove-commercial catch-10510 105       \n",
       "2 Affleck Canal/Spanish Is/Louise Cove-commercial catch-10510 105       \n",
       "3 Affleck Canal/Spanish Is/Louise Cove-commercial catch-10510 105       \n",
       "4 Affleck Canal/Spanish Is/Louise Cove-commercial catch-10510 105       \n",
       "5 Affleck Canal/Spanish Is/Louise Cove-commercial catch-10510 105       \n",
       "6 Affleck Canal/Spanish Is/Louise Cove-commercial catch-10510 105       \n",
       "  Sub.DistrictID Stat.area Lat Lon AWC_CODE\n",
       "1 10             10510     NA  NA  NA      \n",
       "2 10             10510     NA  NA  NA      \n",
       "3 10             10510     NA  NA  NA      \n",
       "4 10             10510     NA  NA  NA      \n",
       "5 10             10510     NA  NA  NA      \n",
       "6 10             10510     NA  NA  NA      "
      ]
     },
     "metadata": {},
     "output_type": "display_data"
    }
   ],
   "source": [
    "# read the data from web(but since it's too large, we'll download version)\n",
    "salmon <- read.csv(\"data/ASL_master.csv\")\n",
    "\n",
    "# Disply first 5 rows of raw data\n",
    "head(salmon)"
   ]
  },
  {
   "cell_type": "code",
   "execution_count": 29,
   "id": "1a1e7c38-8f72-43a1-a396-953dff9f9dc8",
   "metadata": {},
   "outputs": [
    {
     "data": {
      "text/html": [
       "<table class=\"dataframe\">\n",
       "<caption>A data.frame: 6 × 3</caption>\n",
       "<thead>\n",
       "\t<tr><th></th><th scope=col>Species</th><th scope=col>Length</th><th scope=col>Sex</th></tr>\n",
       "\t<tr><th></th><th scope=col>&lt;chr&gt;</th><th scope=col>&lt;int&gt;</th><th scope=col>&lt;chr&gt;</th></tr>\n",
       "</thead>\n",
       "<tbody>\n",
       "\t<tr><th scope=row>1</th><td>chinook</td><td>796</td><td>female</td></tr>\n",
       "\t<tr><th scope=row>2</th><td>chinook</td><td>855</td><td>female</td></tr>\n",
       "\t<tr><th scope=row>3</th><td>chinook</td><td>658</td><td>male  </td></tr>\n",
       "\t<tr><th scope=row>4</th><td>chinook</td><td>510</td><td>male  </td></tr>\n",
       "\t<tr><th scope=row>5</th><td>chinook</td><td>465</td><td>male  </td></tr>\n",
       "\t<tr><th scope=row>6</th><td>chinook</td><td>560</td><td>male  </td></tr>\n",
       "</tbody>\n",
       "</table>\n"
      ],
      "text/latex": [
       "A data.frame: 6 × 3\n",
       "\\begin{tabular}{r|lll}\n",
       "  & Species & Length & Sex\\\\\n",
       "  & <chr> & <int> & <chr>\\\\\n",
       "\\hline\n",
       "\t1 & chinook & 796 & female\\\\\n",
       "\t2 & chinook & 855 & female\\\\\n",
       "\t3 & chinook & 658 & male  \\\\\n",
       "\t4 & chinook & 510 & male  \\\\\n",
       "\t5 & chinook & 465 & male  \\\\\n",
       "\t6 & chinook & 560 & male  \\\\\n",
       "\\end{tabular}\n"
      ],
      "text/markdown": [
       "\n",
       "A data.frame: 6 × 3\n",
       "\n",
       "| <!--/--> | Species &lt;chr&gt; | Length &lt;int&gt; | Sex &lt;chr&gt; |\n",
       "|---|---|---|---|\n",
       "| 1 | chinook | 796 | female |\n",
       "| 2 | chinook | 855 | female |\n",
       "| 3 | chinook | 658 | male   |\n",
       "| 4 | chinook | 510 | male   |\n",
       "| 5 | chinook | 465 | male   |\n",
       "| 6 | chinook | 560 | male   |\n",
       "\n"
      ],
      "text/plain": [
       "  Species Length Sex   \n",
       "1 chinook 796    female\n",
       "2 chinook 855    female\n",
       "3 chinook 658    male  \n",
       "4 chinook 510    male  \n",
       "5 chinook 465    male  \n",
       "6 chinook 560    male  "
      ]
     },
     "metadata": {},
     "output_type": "display_data"
    }
   ],
   "source": [
    "# clean the data and pick the column species and Length we interest, and show the first 6 row\n",
    "set.seed(1)\n",
    "chinook <- \n",
    "    salmon %>%  \n",
    "    select(\"Species\", \"Length\", \"Sex\") %>%\n",
    "    filter(Sex == \"male\" | Sex == \"female\") %>%\n",
    "    filter(!is.na(Length)) \n",
    "head(chinook)"
   ]
  },
  {
   "cell_type": "code",
   "execution_count": 37,
   "id": "15416e3e-4b5d-4cf8-a318-89c2a8eb6df4",
   "metadata": {},
   "outputs": [
    {
     "data": {
      "text/html": [
       "<table class=\"dataframe\">\n",
       "<caption>A tibble: 1 × 10</caption>\n",
       "<thead>\n",
       "\t<tr><th scope=col>n_female</th><th scope=col>n_male</th><th scope=col>x_bar_female</th><th scope=col>x_bar_male</th><th scope=col>sd_female</th><th scope=col>sd_male</th><th scope=col>median_female</th><th scope=col>median_male</th><th scope=col>IQR_female</th><th scope=col>IQR_male</th></tr>\n",
       "\t<tr><th scope=col>&lt;int&gt;</th><th scope=col>&lt;int&gt;</th><th scope=col>&lt;dbl&gt;</th><th scope=col>&lt;dbl&gt;</th><th scope=col>&lt;dbl&gt;</th><th scope=col>&lt;dbl&gt;</th><th scope=col>&lt;dbl&gt;</th><th scope=col>&lt;dbl&gt;</th><th scope=col>&lt;dbl&gt;</th><th scope=col>&lt;dbl&gt;</th></tr>\n",
       "</thead>\n",
       "<tbody>\n",
       "\t<tr><td>55712</td><td>66259</td><td>838.8231</td><td>795.3091</td><td>129.1345</td><td>192.7826</td><td>854</td><td>820</td><td>141.25</td><td>290</td></tr>\n",
       "</tbody>\n",
       "</table>\n"
      ],
      "text/latex": [
       "A tibble: 1 × 10\n",
       "\\begin{tabular}{llllllllll}\n",
       " n\\_female & n\\_male & x\\_bar\\_female & x\\_bar\\_male & sd\\_female & sd\\_male & median\\_female & median\\_male & IQR\\_female & IQR\\_male\\\\\n",
       " <int> & <int> & <dbl> & <dbl> & <dbl> & <dbl> & <dbl> & <dbl> & <dbl> & <dbl>\\\\\n",
       "\\hline\n",
       "\t 55712 & 66259 & 838.8231 & 795.3091 & 129.1345 & 192.7826 & 854 & 820 & 141.25 & 290\\\\\n",
       "\\end{tabular}\n"
      ],
      "text/markdown": [
       "\n",
       "A tibble: 1 × 10\n",
       "\n",
       "| n_female &lt;int&gt; | n_male &lt;int&gt; | x_bar_female &lt;dbl&gt; | x_bar_male &lt;dbl&gt; | sd_female &lt;dbl&gt; | sd_male &lt;dbl&gt; | median_female &lt;dbl&gt; | median_male &lt;dbl&gt; | IQR_female &lt;dbl&gt; | IQR_male &lt;dbl&gt; |\n",
       "|---|---|---|---|---|---|---|---|---|---|\n",
       "| 55712 | 66259 | 838.8231 | 795.3091 | 129.1345 | 192.7826 | 854 | 820 | 141.25 | 290 |\n",
       "\n"
      ],
      "text/plain": [
       "  n_female n_male x_bar_female x_bar_male sd_female sd_male  median_female\n",
       "1 55712    66259  838.8231     795.3091   129.1345  192.7826 854          \n",
       "  median_male IQR_female IQR_male\n",
       "1 820         141.25     290     "
      ]
     },
     "metadata": {},
     "output_type": "display_data"
    }
   ],
   "source": [
    "# summary of chinook data(sd, mean, median, etc.)\n",
    "chinook_summary <-\n",
    "     chinook %>% \n",
    "     group_by(Sex) %>% \n",
    "     summarise(n = n(),\n",
    "               x_bar = mean(Length),\n",
    "               sd = sd(Length),\n",
    "               median = median(Length),\n",
    "               IQR = IQR(Length),\n",
    "               `.groups` = \"drop\") %>% \n",
    "     pivot_wider(names_from = Sex, values_from = c(n, x_bar, sd, median, IQR)) \n",
    "\n",
    "chinook_summary"
   ]
  },
  {
   "cell_type": "code",
   "execution_count": 40,
   "id": "3b59fe70-b630-4541-b281-1f01ed654cbc",
   "metadata": {},
   "outputs": [
    {
     "data": {
      "text/html": [
       "<table class=\"dataframe\">\n",
       "<caption>A tibble: 2 × 4</caption>\n",
       "<thead>\n",
       "\t<tr><th scope=col>Sex</th><th scope=col>q25</th><th scope=col>q50</th><th scope=col>q75</th></tr>\n",
       "\t<tr><th scope=col>&lt;chr&gt;</th><th scope=col>&lt;dbl&gt;</th><th scope=col>&lt;dbl&gt;</th><th scope=col>&lt;dbl&gt;</th></tr>\n",
       "</thead>\n",
       "<tbody>\n",
       "\t<tr><td>female</td><td>781.75</td><td>854</td><td>923</td></tr>\n",
       "\t<tr><td>male  </td><td>650.00</td><td>820</td><td>940</td></tr>\n",
       "</tbody>\n",
       "</table>\n"
      ],
      "text/latex": [
       "A tibble: 2 × 4\n",
       "\\begin{tabular}{llll}\n",
       " Sex & q25 & q50 & q75\\\\\n",
       " <chr> & <dbl> & <dbl> & <dbl>\\\\\n",
       "\\hline\n",
       "\t female & 781.75 & 854 & 923\\\\\n",
       "\t male   & 650.00 & 820 & 940\\\\\n",
       "\\end{tabular}\n"
      ],
      "text/markdown": [
       "\n",
       "A tibble: 2 × 4\n",
       "\n",
       "| Sex &lt;chr&gt; | q25 &lt;dbl&gt; | q50 &lt;dbl&gt; | q75 &lt;dbl&gt; |\n",
       "|---|---|---|---|\n",
       "| female | 781.75 | 854 | 923 |\n",
       "| male   | 650.00 | 820 | 940 |\n",
       "\n"
      ],
      "text/plain": [
       "  Sex    q25    q50 q75\n",
       "1 female 781.75 854 923\n",
       "2 male   650.00 820 940"
      ]
     },
     "metadata": {},
     "output_type": "display_data"
    }
   ],
   "source": [
    "# group by Sex column and calculate quartiles for each group\n",
    "IQR_chinook <- \n",
    "chinook %>%\n",
    "group_by(Sex) %>%\n",
    "summarize(q25 = quantile(Length, probs = 0.25),\n",
    "          q50 = quantile(Length, probs = 0.5),\n",
    "          q75 = quantile(Length, probs = 0.75))\n",
    "IQR_chinook"
   ]
  },
  {
   "cell_type": "code",
   "execution_count": null,
   "id": "39194a2d-c1ab-4fd6-bce8-7b5a9b1eb7cb",
   "metadata": {},
   "outputs": [],
   "source": []
  },
  {
   "cell_type": "code",
   "execution_count": null,
   "id": "3db9c27c-a580-4fb1-b207-dc54618fc8ba",
   "metadata": {},
   "outputs": [],
   "source": []
  }
 ],
 "metadata": {
  "kernelspec": {
   "display_name": "R",
   "language": "R",
   "name": "ir"
  },
  "language_info": {
   "codemirror_mode": "r",
   "file_extension": ".r",
   "mimetype": "text/x-r-source",
   "name": "R",
   "pygments_lexer": "r",
   "version": "4.1.3"
  }
 },
 "nbformat": 4,
 "nbformat_minor": 5
}
